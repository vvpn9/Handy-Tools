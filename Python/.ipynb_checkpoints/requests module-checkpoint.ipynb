{
 "cells": [
  {
   "cell_type": "markdown",
   "id": "contemporary-makeup",
   "metadata": {},
   "source": [
    "# "
   ]
  },
  {
   "cell_type": "code",
   "execution_count": null,
   "id": "identical-subsection",
   "metadata": {},
   "outputs": [],
   "source": [
    "import requests"
   ]
  },
  {
   "cell_type": "code",
   "execution_count": 2,
   "id": "fitting-prerequisite",
   "metadata": {},
   "outputs": [],
   "source": [
    "r = requests.get('http://www.tmall.com')"
   ]
  },
  {
   "cell_type": "code",
   "execution_count": 3,
   "id": "sharp-heather",
   "metadata": {},
   "outputs": [
    {
     "name": "stdout",
     "output_type": "stream",
     "text": [
      "utf-8\n"
     ]
    }
   ],
   "source": [
    "print(r.encoding)  # utf-8"
   ]
  },
  {
   "cell_type": "code",
   "execution_count": 4,
   "id": "textile-german",
   "metadata": {},
   "outputs": [
    {
     "name": "stdout",
     "output_type": "stream",
     "text": [
      "<class 'requests.structures.CaseInsensitiveDict'>\n"
     ]
    }
   ],
   "source": [
    "print(type(r.headers))"
   ]
  },
  {
   "cell_type": "code",
   "execution_count": 6,
   "id": "seven-industry",
   "metadata": {},
   "outputs": [
    {
     "name": "stdout",
     "output_type": "stream",
     "text": [
      "text/html; charset=utf-8\n"
     ]
    }
   ],
   "source": [
    "print(r.headers['Content-type'])  # text/html; charset=utf-8"
   ]
  },
  {
   "cell_type": "code",
   "execution_count": null,
   "id": "buried-april",
   "metadata": {},
   "outputs": [],
   "source": []
  }
 ],
 "metadata": {
  "kernelspec": {
   "display_name": "Python 3",
   "language": "python",
   "name": "python3"
  },
  "language_info": {
   "codemirror_mode": {
    "name": "ipython",
    "version": 3
   },
   "file_extension": ".py",
   "mimetype": "text/x-python",
   "name": "python",
   "nbconvert_exporter": "python",
   "pygments_lexer": "ipython3",
   "version": "3.9.2"
  }
 },
 "nbformat": 4,
 "nbformat_minor": 5
}
